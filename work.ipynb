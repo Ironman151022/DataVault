{
 "cells": [
  {
   "cell_type": "code",
   "execution_count": 13,
   "metadata": {},
   "outputs": [],
   "source": [
    "a = '<think> koushik Gupta'"
   ]
  },
  {
   "cell_type": "code",
   "execution_count": 19,
   "metadata": {},
   "outputs": [
    {
     "data": {
      "text/plain": [
       "True"
      ]
     },
     "execution_count": 19,
     "metadata": {},
     "output_type": "execute_result"
    }
   ],
   "source": [
    "\"<think>\" in a"
   ]
  },
  {
   "cell_type": "code",
   "execution_count": 24,
   "metadata": {},
   "outputs": [
    {
     "data": {
      "text/plain": [
       "'<think> koushik Gupta'"
      ]
     },
     "execution_count": 24,
     "metadata": {},
     "output_type": "execute_result"
    }
   ],
   "source": [
    "a[a.index(\"<think>\"):]"
   ]
  },
  {
   "cell_type": "code",
   "execution_count": 40,
   "metadata": {},
   "outputs": [],
   "source": [
    "a = f\"\"\"\n",
    "<details>\n",
    "  <summary>{title}</summary>\n",
    "\n",
    "{content}\n",
    "</details>\n",
    "\"\"\""
   ]
  },
  {
   "cell_type": "code",
   "execution_count": 57,
   "metadata": {},
   "outputs": [],
   "source": [
    "import re"
   ]
  },
  {
   "cell_type": "code",
   "execution_count": 58,
   "metadata": {},
   "outputs": [],
   "source": [
    "def extract_inside_outside(text, tag):\n",
    "    \"\"\"\n",
    "    Extracts content inside the tag and outside the tag.\n",
    "    \n",
    "    :param text: The input string containing the tagged sections\n",
    "    :param tag: The tag name to extract content from\n",
    "    :return: Tuple of (inside_tag, outside_tag)\n",
    "    \"\"\"\n",
    "    pattern = rf'<{tag}>(.*?)</{tag}>'\n",
    "    match = re.search(pattern, text, re.DOTALL)\n",
    "    \n",
    "    if match:\n",
    "        # Get inside content\n",
    "        inside = match.group(1).strip()\n",
    "        \n",
    "        # Get outside content by replacing the entire tag section with a space\n",
    "        outside = re.sub(pattern, ' ', text, flags=re.DOTALL).strip()\n",
    "        \n",
    "        return inside, outside\n",
    "    return None, None"
   ]
  },
  {
   "cell_type": "code",
   "execution_count": 59,
   "metadata": {},
   "outputs": [],
   "source": [
    "text = '''This is outside\n",
    "<example>This is inside the tag</example>\n",
    "This is also outside'''"
   ]
  },
  {
   "cell_type": "code",
   "execution_count": 3,
   "metadata": {},
   "outputs": [],
   "source": [
    "import os"
   ]
  },
  {
   "cell_type": "code",
   "execution_count": 1,
   "metadata": {},
   "outputs": [],
   "source": [
    "f = 'JarvisChats'\n"
   ]
  },
  {
   "cell_type": "code",
   "execution_count": 6,
   "metadata": {},
   "outputs": [
    {
     "name": "stdout",
     "output_type": "stream",
     "text": [
      "JarvisChats [] ['jarvis_chats.json']\n"
     ]
    }
   ],
   "source": [
    "for root, dirs, files in os.walk(f):\n",
    "    print(root, dirs, files)\n"
   ]
  },
  {
   "cell_type": "code",
   "execution_count": null,
   "metadata": {},
   "outputs": [],
   "source": [
    "def check_chats(folder_name):\n",
    "    chats = []\n",
    "    for root, dirs, files in os.walk(folder_name):\n",
    "        for file in files:\n",
    "            if file.endswith('.json'):\n",
    "                chat_id = os.path.splitext(file)[0]\n",
    "                chats.append(chat_id)\n",
    "    return chats"
   ]
  },
  {
   "cell_type": "code",
   "execution_count": 7,
   "metadata": {},
   "outputs": [],
   "source": [
    "chats = []\n",
    "for root, dirs, files in os.walk(f):\n",
    "    for file in files:\n",
    "        if file.endswith('.json'):\n",
    "            chat_id = os.path.splitext(file)[0]\n",
    "            chats.append(chat_id)"
   ]
  },
  {
   "cell_type": "code",
   "execution_count": 8,
   "metadata": {},
   "outputs": [
    {
     "data": {
      "text/plain": [
       "['jarvis_chats']"
      ]
     },
     "execution_count": 8,
     "metadata": {},
     "output_type": "execute_result"
    }
   ],
   "source": [
    "chats"
   ]
  },
  {
   "cell_type": "code",
   "execution_count": 2,
   "metadata": {},
   "outputs": [
    {
     "data": {
      "text/plain": [
       "''"
      ]
     },
     "execution_count": 2,
     "metadata": {},
     "output_type": "execute_result"
    }
   ],
   "source": [
    "c = []\n",
    "''.join(c)"
   ]
  },
  {
   "cell_type": "code",
   "execution_count": 4,
   "metadata": {},
   "outputs": [
    {
     "data": {
      "text/plain": [
       "True"
      ]
     },
     "execution_count": 4,
     "metadata": {},
     "output_type": "execute_result"
    }
   ],
   "source": [
    "start_chat = bool(input(\"shall I take you to my world --> \"))\n",
    "start_chat"
   ]
  },
  {
   "cell_type": "code",
   "execution_count": 13,
   "metadata": {},
   "outputs": [],
   "source": [
    "import time, sys\n",
    "from termcolor import colored"
   ]
  },
  {
   "cell_type": "code",
   "execution_count": 14,
   "metadata": {},
   "outputs": [],
   "source": [
    "def stream_text(text, color=None, delay=0.03, **attrs):\n",
    "    if color:\n",
    "        text = colored(text, color=color, attrs=attrs)\n",
    "    for char in text:\n",
    "        sys.stdout.write(char)\n",
    "        sys.stdout.flush()\n",
    "        time.sleep(delay)\n",
    "    print()"
   ]
  },
  {
   "cell_type": "code",
   "execution_count": 23,
   "metadata": {},
   "outputs": [
    {
     "name": "stdout",
     "output_type": "stream",
     "text": [
      "\u001b[33m\n",
      "NOTE: You will be automatically continued for chat with Jarvis. If not press \"q\" to exit()\u001b[0m\n"
     ]
    }
   ],
   "source": [
    "note = '\\nNOTE: You will be automatically continued for chat with Jarvis. If not press \"q\" to exit()'\n",
    "stream_text(note, color='yellow')\n",
    "a = input(\"Helloo->\")"
   ]
  },
  {
   "cell_type": "code",
   "execution_count": 22,
   "metadata": {},
   "outputs": [
    {
     "data": {
      "text/plain": [
       "'a'"
      ]
     },
     "execution_count": 22,
     "metadata": {},
     "output_type": "execute_result"
    }
   ],
   "source": [
    "a"
   ]
  },
  {
   "cell_type": "code",
   "execution_count": 27,
   "metadata": {},
   "outputs": [],
   "source": [
    "a = 'koushik|'"
   ]
  },
  {
   "cell_type": "code",
   "execution_count": 33,
   "metadata": {},
   "outputs": [
    {
     "data": {
      "text/plain": [
       "'koushik|'"
      ]
     },
     "execution_count": 33,
     "metadata": {},
     "output_type": "execute_result"
    }
   ],
   "source": [
    "a.replace('b','i').replace('b','s')"
   ]
  },
  {
   "cell_type": "code",
   "execution_count": 4,
   "metadata": {},
   "outputs": [],
   "source": [
    "import re"
   ]
  },
  {
   "cell_type": "code",
   "execution_count": 18,
   "metadata": {},
   "outputs": [
    {
     "name": "stdout",
     "output_type": "stream",
     "text": [
      "Before: \n",
      "Inside: \n",
      "After: Hello! How can I assist you today?\n"
     ]
    }
   ],
   "source": [
    "def extract_sections(text, tag):\n",
    "    pattern = rf'<{tag}>(.*?)</{tag}>'\n",
    "    match = re.search(pattern, text, re.DOTALL)\n",
    "    \n",
    "    if match:\n",
    "        # Get the start and end positions of the entire tag\n",
    "        start_pos = match.start()\n",
    "        end_pos = match.end()\n",
    "        \n",
    "        # Extract the three sections\n",
    "        text_before = text[:start_pos].strip()\n",
    "        text_inside = match.group(1).strip()\n",
    "        text_after = text[end_pos:].strip()\n",
    "        \n",
    "        return text_before, text_inside, text_after\n",
    "    else:\n",
    "        # If tag not found, return the original text as text_before\n",
    "        return text.strip(), None, None\n",
    "\n",
    "# Example usage:\n",
    "text = \"<think>\\n\\n</think>\\n\\nHello! How can I assist you today?\"\n",
    "\n",
    "before, inside, after = extract_sections(text, \"think\")\n",
    "print(f\"Before: {before}\")\n",
    "print(f\"Inside: {inside}\")\n",
    "print(f\"After: {after}\")"
   ]
  },
  {
   "cell_type": "code",
   "execution_count": 19,
   "metadata": {},
   "outputs": [
    {
     "data": {
      "text/plain": [
       "''"
      ]
     },
     "execution_count": 19,
     "metadata": {},
     "output_type": "execute_result"
    }
   ],
   "source": []
  },
  {
   "cell_type": "code",
   "execution_count": 14,
   "metadata": {},
   "outputs": [
    {
     "data": {
      "text/plain": [
       "False"
      ]
     },
     "execution_count": 14,
     "metadata": {},
     "output_type": "execute_result"
    }
   ],
   "source": []
  },
  {
   "cell_type": "code",
   "execution_count": null,
   "metadata": {},
   "outputs": [],
   "source": []
  }
 ],
 "metadata": {
  "kernelspec": {
   "display_name": "Python 3",
   "language": "python",
   "name": "python3"
  },
  "language_info": {
   "codemirror_mode": {
    "name": "ipython",
    "version": 3
   },
   "file_extension": ".py",
   "mimetype": "text/x-python",
   "name": "python",
   "nbconvert_exporter": "python",
   "pygments_lexer": "ipython3",
   "version": "3.9.6"
  }
 },
 "nbformat": 4,
 "nbformat_minor": 2
}
